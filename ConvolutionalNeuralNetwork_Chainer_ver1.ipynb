{
 "cells": [
  {
   "cell_type": "code",
   "execution_count": 8,
   "metadata": {
    "collapsed": true
   },
   "outputs": [],
   "source": [
    "import datetime\n",
    "import numpy as np\n",
    "import matplotlib.pylab as plt\n",
    "from matplotlib import cm\n",
    "from chainer import Chain, Variable, cuda, optimizer, optimizers, serializers\n",
    "import chainer.functions as F\n",
    "import chainer.links as L\n",
    "from sklearn.datasets import fetch_mldata"
   ]
  },
  {
   "cell_type": "code",
   "execution_count": 7,
   "metadata": {},
   "outputs": [
    {
     "name": "stdout",
     "output_type": "stream",
     "text": [
      "python 3.5.2\n",
      "\n",
      "numpy 1.13.1\n",
      "chainer 2.0.2\n",
      "matplotlib 2.0.2\n",
      "scikit-learn 0.18.2\n"
     ]
    }
   ],
   "source": [
    "from pkg_resources import get_distribution\n",
    "import platform\n",
    "print(\"python\", platform.python_version())\n",
    "print(\"\")\n",
    "libs = [\"numpy\", \"chainer\", \"matplotlib\", \"scikit-learn\"]\n",
    "for lib in libs:\n",
    "    version = get_distribution(lib).version\n",
    "    print(lib, version)"
   ]
  },
  {
   "cell_type": "code",
   "execution_count": 3,
   "metadata": {
    "collapsed": true
   },
   "outputs": [],
   "source": [
    "# 畳み込みニューラルネットワークでMNIST画像分類"
   ]
  },
  {
   "cell_type": "code",
   "execution_count": 4,
   "metadata": {
    "collapsed": true
   },
   "outputs": [],
   "source": [
    "# モデルクラス定義\n",
    "\n",
    "class CNN(Chain):\n",
    "    def __init__(self):\n",
    "        # クラスの初期化\n",
    "        super(CNN, self).__init__(            \n",
    "            conv1 = L.Convolution2D(None, 20, 5), # フィルター5\n",
    "            conv2 = L.Convolution2D(20, 50, 5), # フィルター5\n",
    "            l1 = L.Linear(800, 500),\n",
    "            l2 = L.Linear(500, 500),\n",
    "            l3 = L.Linear(500, 10, initialW=np.zeros((10, 500), dtype=np.float32))\n",
    "        )\n",
    " \n",
    "    def __call__(self, x, t=None, train=False):\n",
    "        # 順伝播の計算を行う関数\n",
    "        # :param x: 入力値\n",
    "        # :param t: 正解のラベル\n",
    "        # :param train: 学習かどうか\n",
    "        # :return: 計算した損失 or 予測したラベル\n",
    "        x = Variable(x)\n",
    "        if train:\n",
    "            t = Variable(t)\n",
    "        h = F.max_pooling_2d(F.relu(self.conv1(x)), 2)\n",
    "        h = F.max_pooling_2d(F.relu(self.conv2(h)), 2)\n",
    "        h = F.relu(self.l1(h))\n",
    "        h = F.relu(self.l2(h))\n",
    "        y = F.softmax(self.l3(h))\n",
    "        if train:\n",
    "            loss, accuracy = F.softmax_cross_entropy(y, t), F.accuracy(y, t)\n",
    "            return loss, accuracy\n",
    "        else:\n",
    "            return np.argmax(y.data)\n",
    " \n",
    "    def reset(self):\n",
    "        # 勾配の初期化\n",
    "        self.zerograds()"
   ]
  },
  {
   "cell_type": "code",
   "execution_count": 6,
   "metadata": {},
   "outputs": [
    {
     "name": "stdout",
     "output_type": "stream",
     "text": [
      "Train\n",
      "epoch:\t1\ttotal loss:\t110.2756325006485\tmean accuracy:\t0.6604166681567828\ttime:\t0:01:45.076824\n",
      "epoch:\t2\ttotal loss:\t99.20416605472565\tmean accuracy:\t0.8088833351929983\ttime:\t0:01:50.416151\n",
      "epoch:\t3\ttotal loss:\t95.10104560852051\tmean accuracy:\t0.8772000014781952\ttime:\t0:01:48.486475\n",
      "epoch:\t4\ttotal loss:\t94.53564810752869\tmean accuracy:\t0.8856666634480158\ttime:\t0:01:44.430645\n",
      "epoch:\t5\ttotal loss:\t89.5551906824112\tmean accuracy:\t0.9711333364248276\ttime:\t0:01:47.763546\n"
     ]
    }
   ],
   "source": [
    "# 学習\n",
    "\n",
    "EPOCH_NUM = 5\n",
    "BATCH_SIZE = 1000\n",
    " \n",
    "# 教師データ\n",
    "mnist = fetch_mldata('MNIST original', data_home='.')\n",
    "mnist.data = mnist.data.astype(np.float32) # 画像データ　784*70000 [[0-255, 0-255, ...], [0-255, 0-255, ...], ... ]\n",
    "mnist.data /= 255 # 0-1に正規化する\n",
    "mnist.target = mnist.target.astype(np.int32) # ラベルデータ70000\n",
    " \n",
    "# 教師データを変換\n",
    "N = 60000\n",
    "train_x, test_x = np.split(mnist.data,   [N]) # 教師データ\n",
    "train_t, test_t = np.split(mnist.target, [N]) # テスト用のデータ\n",
    "train_x = train_x.reshape((len(train_x), 1, 28, 28)) # (N, channel, height, width)\n",
    "test_x = test_x.reshape((len(test_x), 1, 28, 28))\n",
    " \n",
    "# モデルの定義\n",
    "model = CNN()\n",
    "optimizer = optimizers.Adam()\n",
    "optimizer.setup(model)\n",
    " \n",
    "# 学習開始\n",
    "print(\"Train\")\n",
    "st = datetime.datetime.now()\n",
    "for epoch in range(EPOCH_NUM):\n",
    "    # ミニバッチ学習\n",
    "    perm = np.random.permutation(N) # ランダムな整数列リストを取得\n",
    "    total_loss = 0\n",
    "    total_accuracy = 0\n",
    "    for i in range(0, N, BATCH_SIZE): \n",
    "        x = train_x[perm[i:i+BATCH_SIZE]]\n",
    "        t = train_t[perm[i:i+BATCH_SIZE]]\n",
    "        model.reset()\n",
    "        loss, accuracy = model(x=x, t=t, train=True)\n",
    "        loss.backward()\n",
    "        loss.unchain_backward()\n",
    "        total_loss += loss.data\n",
    "        total_accuracy += accuracy.data\n",
    "        optimizer.update()\n",
    "    ed = datetime.datetime.now()\n",
    "    print(\"epoch:\\t{}\\ttotal loss:\\t{}\\tmean accuracy:\\t{}\\ttime:\\t{}\".format(epoch+1, total_loss, total_accuracy/(N/BATCH_SIZE), ed-st))\n",
    "    st = datetime.datetime.now()"
   ]
  },
  {
   "cell_type": "code",
   "execution_count": 9,
   "metadata": {},
   "outputs": [
    {
     "name": "stdout",
     "output_type": "stream",
     "text": [
      "\n",
      "Predict\n"
     ]
    },
    {
     "data": {
      "image/png": "[encoded data removed]",
      "text/plain": [
       "<matplotlib.figure.Figure at 0x10320e438>"
      ]
     },
     "metadata": {},
     "output_type": "display_data"
    },
    {
     "name": "stdout",
     "output_type": "stream",
     "text": [
      "y:\t3\n",
      "\n"
     ]
    },
    {
     "data": {
      "image/png": "[encoded data removed]",
      "text/plain": [
       "<matplotlib.figure.Figure at 0x108f19a58>"
      ]
     },
     "metadata": {},
     "output_type": "display_data"
    },
    {
     "name": "stdout",
     "output_type": "stream",
     "text": [
      "y:\t0\n",
      "\n"
     ]
    },
    {
     "data": {
      "image/png": "[encoded data removed]",
      "text/plain": [
       "<matplotlib.figure.Figure at 0x108f37c88>"
      ]
     },
     "metadata": {},
     "output_type": "display_data"
    },
    {
     "name": "stdout",
     "output_type": "stream",
     "text": [
      "y:\t5\n",
      "\n"
     ]
    },
    {
     "data": {
      "image/png": "[encoded data removed]",
      "text/plain": [
       "<matplotlib.figure.Figure at 0x108ff50b8>"
      ]
     },
     "metadata": {},
     "output_type": "display_data"
    },
    {
     "name": "stdout",
     "output_type": "stream",
     "text": [
      "y:\t8\n",
      "\n"
     ]
    },
    {
     "data": {
      "image/png": "[encoded data removed]",
      "text/plain": [
       "<matplotlib.figure.Figure at 0x10900f048>"
      ]
     },
     "metadata": {},
     "output_type": "display_data"
    },
    {
     "name": "stdout",
     "output_type": "stream",
     "text": [
      "y:\t1\n",
      "\n"
     ]
    },
    {
     "data": {
      "image/png": "[encoded data removed]",
      "text/plain": [
       "<matplotlib.figure.Figure at 0x1090a3898>"
      ]
     },
     "metadata": {},
     "output_type": "display_data"
    },
    {
     "name": "stdout",
     "output_type": "stream",
     "text": [
      "y:\t6\n",
      "\n"
     ]
    },
    {
     "data": {
      "image/png": "[encoded data removed]",
      "text/plain": [
       "<matplotlib.figure.Figure at 0x107cc6a58>"
      ]
     },
     "metadata": {},
     "output_type": "display_data"
    },
    {
     "name": "stdout",
     "output_type": "stream",
     "text": [
      "y:\t8\n",
      "\n"
     ]
    },
    {
     "data": {
      "image/png": "[encoded data removed]",
      "text/plain": [
       "<matplotlib.figure.Figure at 0x109052d30>"
      ]
     },
     "metadata": {},
     "output_type": "display_data"
    },
    {
     "name": "stdout",
     "output_type": "stream",
     "text": [
      "y:\t3\n",
      "\n"
     ]
    },
    {
     "data": {
      "image/png": "[encoded data removed]",
      "text/plain": [
       "<matplotlib.figure.Figure at 0x108ff0978>"
      ]
     },
     "metadata": {},
     "output_type": "display_data"
    },
    {
     "name": "stdout",
     "output_type": "stream",
     "text": [
      "y:\t8\n",
      "\n"
     ]
    },
    {
     "data": {
      "image/png": "[encoded data removed]",
      "text/plain": [
       "<matplotlib.figure.Figure at 0x1084a19b0>"
      ]
     },
     "metadata": {},
     "output_type": "display_data"
    },
    {
     "name": "stdout",
     "output_type": "stream",
     "text": [
      "y:\t3\n",
      "\n"
     ]
    }
   ],
   "source": [
    "# 予測\n",
    "\n",
    "print(\"\\nPredict\")\n",
    "def predict(model, x):\n",
    "    y = model(x=np.array([x], dtype=\"float32\"), train=False)\n",
    "    plt.figure(figsize=(1, 1))\n",
    "    plt.imshow(x[0], cmap=cm.gray_r)\n",
    "    plt.show()\n",
    "    print(\"y:\\t{}\\n\".format(y))\n",
    "\n",
    "idx = np.random.choice((70000-N), 10)\n",
    "for i in idx:\n",
    "    predict(model, test_x[i])"
   ]
  }
 ],
 "metadata": {
  "kernelspec": {
   "display_name": "Python 3",
   "language": "python",
   "name": "python3"
  },
  "language_info": {
   "codemirror_mode": {
    "name": "ipython",
    "version": 3
   },
   "file_extension": ".py",
   "mimetype": "text/x-python",
   "name": "python",
   "nbconvert_exporter": "python",
   "pygments_lexer": "ipython3",
   "version": "3.5.2"
  }
 },
 "nbformat": 4,
 "nbformat_minor": 2
}
