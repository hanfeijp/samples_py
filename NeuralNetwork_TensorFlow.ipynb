{
 "cells": [
  {
   "cell_type": "markdown",
   "metadata": {},
   "source": [
    "# AIM\n",
    "\n",
    "ニューラルネットワークでアイリスデータ分類 ver. softmax with TensorFlow"
   ]
  },
  {
   "cell_type": "code",
   "execution_count": 1,
   "metadata": {
    "collapsed": true
   },
   "outputs": [],
   "source": [
    "import time\n",
    "import numpy as np\n",
    "import pandas as pd\n",
    "from sklearn import datasets\n",
    "import tensorflow as tf"
   ]
  },
  {
   "cell_type": "code",
   "execution_count": 2,
   "metadata": {},
   "outputs": [
    {
     "name": "stdout",
     "output_type": "stream",
     "text": [
      "python 3.5.2\n",
      "\n",
      "numpy 1.13.1\n",
      "pandas 0.20.3\n",
      "scikit-learn 0.18.2\n",
      "tensorflow 1.3.0\n"
     ]
    }
   ],
   "source": [
    "from pkg_resources import get_distribution\n",
    "import platform\n",
    "print(\"python\", platform.python_version())\n",
    "print(\"\")\n",
    "libs = [\"numpy\", \"pandas\", \"scikit-learn\", \"tensorflow\"]\n",
    "for lib in libs:\n",
    "    version = get_distribution(lib).version\n",
    "    print(lib, version)"
   ]
  },
  {
   "cell_type": "code",
   "execution_count": 41,
   "metadata": {},
   "outputs": [],
   "source": [
    "# ネットワークの定義\n",
    "\n",
    "in_size = 4\n",
    "hidden_size = 20\n",
    "out_size = 3\n",
    "# プレースホルダー\n",
    "x_ = tf.placeholder(tf.float32, shape=[None, in_size])\n",
    "y_ = tf.placeholder(tf.float32, shape=[None, out_size])\n",
    "# 順伝播のネットワークを作成\n",
    "fc1_w = tf.Variable(tf.truncated_normal([in_size, hidden_size], stddev=0.1), dtype=tf.float32) # 入力層の重み\n",
    "fc1_b = tf.Variable(tf.constant(0.1, shape=[hidden_size]), dtype=tf.float32) # 入力層のバイアス\n",
    "fc1 = tf.nn.sigmoid(tf.matmul(x_, fc1_w) + fc1_b) # 全結合\n",
    "fc2_w = tf.Variable(tf.truncated_normal([hidden_size, hidden_size], stddev=0.1), dtype=tf.float32) # 隠れ層の重み\n",
    "fc2_b = tf.Variable(tf.constant(0.1, shape=[hidden_size]), dtype=tf.float32) # 隠れ層のバイアス\n",
    "fc2 = tf.nn.sigmoid(tf.matmul(fc1, fc2_w) + fc2_b) # 全結合\n",
    "fc3_w = tf.Variable(tf.truncated_normal([hidden_size, out_size], stddev=0.1), dtype=tf.float32) # 出力層の重み\n",
    "fc3_b = tf.Variable(tf.constant(0.1, shape=[out_size]), dtype=tf.float32) # 出力層のバイアス\n",
    "y_pre = tf.matmul(fc2, fc3_w) + fc3_b # 全結合\n",
    "# クロスエントロピー誤差\n",
    "cross_entropy = tf.reduce_mean(tf.nn.softmax_cross_entropy_with_logits(labels=y_, logits=y_pre))\n",
    "# 勾配法\n",
    "train_step = tf.train.AdamOptimizer().minimize(cross_entropy)\n",
    "# 正解率の計算\n",
    "correct_prediction = tf.equal(tf.argmax(y_pre, 1), tf.argmax(y_, 1))\n",
    "accuracy = tf.reduce_mean(tf.cast(correct_prediction, tf.float32))"
   ]
  },
  {
   "cell_type": "code",
   "execution_count": 42,
   "metadata": {},
   "outputs": [
    {
     "name": "stdout",
     "output_type": "stream",
     "text": [
      "Train\n",
      "epoch:\t10\ttotal loss:\t5.487505674362183\taccuracy:\t0.3400000035762787\tvaridation accuracy:\t0.3199999928474426\ttime:\t1.505016803741455\n",
      "epoch:\t20\ttotal loss:\t5.464372158050537\taccuracy:\t0.3400000035762787\tvaridation accuracy:\t0.3199999928474426\ttime:\t0.11265897750854492\n",
      "epoch:\t30\ttotal loss:\t5.418483018875122\taccuracy:\t0.3799999952316284\tvaridation accuracy:\t0.3799999952316284\ttime:\t0.09792304039001465\n",
      "epoch:\t40\ttotal loss:\t5.303887128829956\taccuracy:\t0.6600000262260437\tvaridation accuracy:\t0.6800000071525574\ttime:\t0.0978999137878418\n",
      "epoch:\t50\ttotal loss:\t5.011532783508301\taccuracy:\t0.6899999976158142\tvaridation accuracy:\t0.7200000286102295\ttime:\t0.08607983589172363\n",
      "epoch:\t60\ttotal loss:\t4.377343773841858\taccuracy:\t0.6899999976158142\tvaridation accuracy:\t0.7200000286102295\ttime:\t0.09998083114624023\n",
      "epoch:\t70\ttotal loss:\t3.5549111366271973\taccuracy:\t0.699999988079071\tvaridation accuracy:\t0.7200000286102295\ttime:\t0.09590721130371094\n",
      "epoch:\t80\ttotal loss:\t2.9743780493736267\taccuracy:\t0.7599999904632568\tvaridation accuracy:\t0.7799999713897705\ttime:\t0.11515402793884277\n",
      "epoch:\t90\ttotal loss:\t2.6500402688980103\taccuracy:\t0.8700000047683716\tvaridation accuracy:\t0.8799999952316284\ttime:\t0.11568808555603027\n",
      "epoch:\t100\ttotal loss:\t2.4318057000637054\taccuracy:\t0.9599999785423279\tvaridation accuracy:\t0.9800000190734863\ttime:\t0.103240966796875\n"
     ]
    }
   ],
   "source": [
    "# 学習\n",
    "\n",
    "EPOCH_NUM = 100\n",
    "BATCH_SIZE = 20\n",
    "\n",
    "# データ\n",
    "N = 100\n",
    "in_size = 4\n",
    "out_size = 3\n",
    "iris = datasets.load_iris()\n",
    "data = pd.DataFrame(data= np.c_[iris[\"data\"], iris[\"target\"]], columns= iris[\"feature_names\"] + [\"target\"])\n",
    "data = np.array(data.values)\n",
    "perm = np.random.permutation(len(data))\n",
    "data = data[perm]\n",
    "train, test = np.split(data, [N])\n",
    "train_x, train_y, test_x, test_y = [], [], [], []\n",
    "for t in train:\n",
    "    train_x.append(t[0:4])\n",
    "    train_y.append(np.eye(out_size)[int(t[4])])\n",
    "for t in test:\n",
    "    test_x.append(t[0:4])\n",
    "    test_y.append(np.eye(out_size)[int(t[4])])\n",
    "train_x = np.array(train_x, dtype=\"float32\")\n",
    "train_y = np.array(train_y, dtype=\"float32\")\n",
    "test_x = np.array(test_x, dtype=\"float32\")\n",
    "test_y = np.array(test_y, dtype=\"float32\")\n",
    "\n",
    "# 学習\n",
    "print(\"Train\")\n",
    "with tf.Session() as sess:\n",
    "    st = time.time()\n",
    "    sess.run(tf.global_variables_initializer())\n",
    "    for epoch in range(EPOCH_NUM):\n",
    "        perm = np.random.permutation(N)\n",
    "        total_loss = 0\n",
    "        for i in range(0, N, BATCH_SIZE):\n",
    "            batch_x = train_x[perm[i:i+BATCH_SIZE]]\n",
    "            batch_y = train_y[perm[i:i+BATCH_SIZE]]\n",
    "            total_loss += cross_entropy.eval(feed_dict={x_: batch_x, y_: batch_y})\n",
    "            train_step.run(feed_dict={x_: batch_x, y_: batch_y})\n",
    "            total_accuracy += accuracy.eval(feed_dict={x_: batch_x, y_: batch_y})\n",
    "        acc = accuracy.eval(feed_dict={x_: train_x, y_: train_y})\n",
    "        test_acc = accuracy.eval(feed_dict={x_: test_x, y_: test_y})\n",
    "        if (epoch+1) % 10 == 0:\n",
    "            ed = time.time()\n",
    "            print(\"epoch:\\t{}\\ttotal loss:\\t{}\\taccuracy:\\t{}\\tvaridation accuracy:\\t{}\\ttime:\\t{}\".format(epoch+1, total_loss, acc, test_acc, ed-st))\n",
    "            st = time.time()"
   ]
  }
 ],
 "metadata": {
  "kernelspec": {
   "display_name": "Python 3",
   "language": "python",
   "name": "python3"
  },
  "language_info": {
   "codemirror_mode": {
    "name": "ipython",
    "version": 3
   },
   "file_extension": ".py",
   "mimetype": "text/x-python",
   "name": "python",
   "nbconvert_exporter": "python",
   "pygments_lexer": "ipython3",
   "version": "3.5.2"
  }
 },
 "nbformat": 4,
 "nbformat_minor": 2
}
