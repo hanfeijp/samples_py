{
 "cells": [
  {
   "cell_type": "markdown",
   "metadata": {},
   "source": [
    "# AIM\n",
    "\n",
    "ニューラルネットワークで排他的論理和回路のモデル ver. softmax with TensorFlow"
   ]
  },
  {
   "cell_type": "code",
   "execution_count": 12,
   "metadata": {
    "collapsed": true
   },
   "outputs": [],
   "source": [
    "import time\n",
    "import numpy as np\n",
    "import tensorflow as tf"
   ]
  },
  {
   "cell_type": "code",
   "execution_count": 2,
   "metadata": {},
   "outputs": [
    {
     "name": "stdout",
     "output_type": "stream",
     "text": [
      "python 3.5.2\n",
      "\n",
      "numpy 1.13.1\n",
      "tensorflow 1.3.0\n"
     ]
    }
   ],
   "source": [
    "from pkg_resources import get_distribution\n",
    "import platform\n",
    "print(\"python\", platform.python_version())\n",
    "print(\"\")\n",
    "libs = [\"numpy\", \"tensorflow\"]\n",
    "for lib in libs:\n",
    "    version = get_distribution(lib).version\n",
    "    print(lib, version)"
   ]
  },
  {
   "cell_type": "code",
   "execution_count": 138,
   "metadata": {},
   "outputs": [],
   "source": [
    "# ネットワークの定義\n",
    "\n",
    "in_size = 2\n",
    "hidden_size = 5\n",
    "out_size = 2\n",
    "# プレースホルダー\n",
    "x_ = tf.placeholder(tf.float32, shape=[None, in_size])\n",
    "y_ = tf.placeholder(tf.float32, shape=[None, out_size])\n",
    "# 順伝播のネットワークを作成\n",
    "fc1_w = tf.Variable(tf.truncated_normal([in_size, hidden_size], stddev=0.1), dtype=tf.float32) # 入力層の重み\n",
    "fc1_b = tf.Variable(tf.constant(0.1, shape=[hidden_size]), dtype=tf.float32) # 入力層のバイアス\n",
    "fc1 = tf.nn.sigmoid(tf.matmul(x_, fc1_w) + fc1_b) # 全結合\n",
    "fc2_w = tf.Variable(tf.truncated_normal([hidden_size, hidden_size], stddev=0.1), dtype=tf.float32) # 隠れ層の重み\n",
    "fc2_b = tf.Variable(tf.constant(0.1, shape=[hidden_size]), dtype=tf.float32) # 隠れ層のバイアス\n",
    "fc2 = tf.nn.sigmoid(tf.matmul(fc1, fc2_w) + fc2_b) # 全結合\n",
    "fc3_w = tf.Variable(tf.truncated_normal([hidden_size, out_size], stddev=0.1), dtype=tf.float32) # 出力層の重み\n",
    "fc3_b = tf.Variable(tf.constant(0.1, shape=[out_size]), dtype=tf.float32) # 出力層のバイアス\n",
    "y_pre = tf.nn.sigmoid(tf.matmul(fc2, fc3_w) + fc3_b) # 全結合\n",
    "# クロスエントロピー誤差\n",
    "cross_entropy = tf.reduce_mean(tf.nn.softmax_cross_entropy_with_logits(labels=y_, logits=y_pre))\n",
    "# 勾配法\n",
    "train_step = tf.train.AdamOptimizer(1e-2).minimize(cross_entropy)\n",
    "# 正解率の計算\n",
    "correct_prediction = tf.equal(tf.argmax(y_pre, 1), tf.argmax(y_, 1))\n",
    "accuracy = tf.reduce_mean(tf.cast(correct_prediction, tf.float32))"
   ]
  },
  {
   "cell_type": "code",
   "execution_count": 146,
   "metadata": {
    "scrolled": false
   },
   "outputs": [
    {
     "name": "stdout",
     "output_type": "stream",
     "text": [
      "Train\n",
      "epoch:\t500\ttotal loss:\t0.31562888622283936\tmean accuracy:\t1.0\ttime:\t3.308142900466919\n",
      "epoch:\t1000\ttotal loss:\t0.3138287365436554\tmean accuracy:\t1.0\ttime:\t0.9018409252166748\n",
      "epoch:\t1500\ttotal loss:\t0.3135184645652771\tmean accuracy:\t1.0\ttime:\t0.9040908813476562\n",
      "epoch:\t2000\ttotal loss:\t0.31340599060058594\tmean accuracy:\t1.0\ttime:\t0.8946030139923096\n",
      "\n",
      "Predict\n",
      "[[1, 0]] => 1\n",
      "[[0, 0]] => 0\n",
      "[[1, 1]] => 0\n",
      "[[0, 1]] => 1\n"
     ]
    }
   ],
   "source": [
    "# 学習\n",
    "\n",
    "EPOCH_NUM = 2000\n",
    "BATCH_SIZE = 4\n",
    "\n",
    "# 教師データ\n",
    "train_data = [\n",
    "    [[0, 0], [0]],\n",
    "    [[1, 0], [1]],\n",
    "    [[0, 1], [1]],\n",
    "    [[1, 1], [0]]\n",
    "]\n",
    "\n",
    "# 教師データを変換\n",
    "N = len(train_data) # 教師データの総数\n",
    "train_x, train_y = [], []\n",
    "for x, y in train_data:\n",
    "    train_x.append(x)\n",
    "    train_y.append(np.eye(2)[y][0])\n",
    "train_x = np.array(train_x, dtype=\"float32\")\n",
    "train_y = np.array(train_y, dtype=\"float32\")\n",
    "\n",
    "# 学習\n",
    "print(\"Train\")\n",
    "with tf.Session() as sess:\n",
    "    st = time.time()\n",
    "    sess.run(tf.global_variables_initializer())\n",
    "    for epoch in range(EPOCH_NUM):\n",
    "        perm = np.random.permutation(N)\n",
    "        total_loss = 0\n",
    "        total_accuracy = 0\n",
    "        for i in range(0, N, BATCH_SIZE):\n",
    "            batch_x = train_x[perm[i:i+BATCH_SIZE]]\n",
    "            batch_y = train_y[perm[i:i+BATCH_SIZE]]\n",
    "            total_loss += cross_entropy.eval(feed_dict={x_: batch_x, y_: batch_y})\n",
    "            train_step.run(feed_dict={x_: batch_x, y_: batch_y})\n",
    "            total_accuracy += accuracy.eval(feed_dict={x_: batch_x, y_: batch_y})\n",
    "        mean_accuracy = total_accuracy/(N/BATCH_SIZE)\n",
    "        if (epoch+1) % 500 == 0:\n",
    "            ed = time.time()\n",
    "            print(\"epoch:\\t{}\\ttotal loss:\\t{}\\tmean accuracy:\\t{}\\ttime:\\t{}\".format(epoch+1, total_loss, mean_accuracy, ed-st))\n",
    "            st = time.time()\n",
    "            \n",
    "    # 予測\n",
    "    print(\"\\nPredict\")\n",
    "    def predict(x):\n",
    "        print(x, \"=>\", np.argmax(y_pre.eval(feed_dict={x_: x})))\n",
    "    predict([[1, 0]])\n",
    "    predict([[0, 0]])\n",
    "    predict([[1, 1]])\n",
    "    predict([[0, 1]])\n"
   ]
  }
 ],
 "metadata": {
  "kernelspec": {
   "display_name": "Python 3",
   "language": "python",
   "name": "python3"
  },
  "language_info": {
   "codemirror_mode": {
    "name": "ipython",
    "version": 3
   },
   "file_extension": ".py",
   "mimetype": "text/x-python",
   "name": "python",
   "nbconvert_exporter": "python",
   "pygments_lexer": "ipython3",
   "version": "3.5.2"
  }
 },
 "nbformat": 4,
 "nbformat_minor": 2
}
