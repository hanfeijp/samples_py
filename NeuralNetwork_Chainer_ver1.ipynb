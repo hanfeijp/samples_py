{
 "cells": [
  {
   "cell_type": "markdown",
   "metadata": {},
   "source": [
    "# AIM\n",
    "\n",
    "ニューラルネットワークでアイリスデータ分類 ver. softmax with Chainer"
   ]
  },
  {
   "cell_type": "code",
   "execution_count": 83,
   "metadata": {
    "collapsed": true
   },
   "outputs": [],
   "source": [
    "import time\n",
    "import numpy as np\n",
    "import pandas as pd\n",
    "from sklearn import datasets\n",
    "from chainer import Chain, Variable, cuda, optimizer, optimizers, serializers\n",
    "import chainer.functions as F\n",
    "import chainer.links as L"
   ]
  },
  {
   "cell_type": "code",
   "execution_count": 84,
   "metadata": {},
   "outputs": [
    {
     "name": "stdout",
     "output_type": "stream",
     "text": [
      "python 3.5.2\n",
      "\n",
      "numpy 1.13.1\n",
      "pandas 0.20.3\n",
      "scikit-learn 0.18.2\n",
      "chainer 2.0.2\n"
     ]
    }
   ],
   "source": [
    "from pkg_resources import get_distribution\n",
    "import platform\n",
    "print(\"python\", platform.python_version())\n",
    "print(\"\")\n",
    "libs = [\"numpy\", \"pandas\", \"scikit-learn\", \"chainer\"]\n",
    "for lib in libs:\n",
    "    version = get_distribution(lib).version\n",
    "    print(lib, version)"
   ]
  },
  {
   "cell_type": "code",
   "execution_count": 85,
   "metadata": {},
   "outputs": [],
   "source": [
    "# データ\n",
    "\n",
    "N = 100\n",
    "in_size = 4\n",
    "out_size = 3\n",
    "iris = datasets.load_iris()\n",
    "data = pd.DataFrame(data= np.c_[iris[\"data\"], iris[\"target\"]], columns= iris[\"feature_names\"] + [\"target\"])\n",
    "data = np.array(data.values)\n",
    "perm = np.random.permutation(len(data))\n",
    "data = data[perm]\n",
    "train, test = np.split(data, [N])\n",
    "train_x, train_y, test_x, test_y = [], [], [], []\n",
    "for t in train:\n",
    "    train_x.append(t[0:4])\n",
    "    train_y.append(t[4])\n",
    "for t in test:\n",
    "    test_x.append(t[0:4])\n",
    "    test_y.append(t[4])\n",
    "train_x = np.array(train_x, dtype=\"float32\")\n",
    "train_y = np.array(train_y, dtype=\"int32\")\n",
    "test_x = np.array(test_x, dtype=\"float32\")\n",
    "test_y = np.array(test_y, dtype=\"int32\")"
   ]
  },
  {
   "cell_type": "code",
   "execution_count": 86,
   "metadata": {
    "collapsed": true
   },
   "outputs": [],
   "source": [
    "# モデルクラス定義\n",
    "\n",
    "class NN(Chain):\n",
    "    def __init__(self, in_size, hidden_size, out_size):\n",
    "        # クラスの初期化\n",
    "        # :param in_size: 入力層のサイズ\n",
    "        # :param hidden_size: 隠れ層のサイズ\n",
    "        # :param out_size: 出力層のサイズ\n",
    "        super(NN, self).__init__(\n",
    "            xh = L.Linear(in_size, hidden_size),\n",
    "            hh = L.Linear(hidden_size, hidden_size),\n",
    "            hy = L.Linear(hidden_size, out_size)\n",
    "        )\n",
    " \n",
    "    def __call__(self, x, y=None, train=False):\n",
    "        # 順伝播の計算を行う関数\n",
    "        # :param x: 入力値\n",
    "        # :param t: 正解のラベル\n",
    "        # :param train: 学習かどうか\n",
    "        # :return: 計算した損失 or 予測したラベル\n",
    "        x = Variable(x)\n",
    "        if train:\n",
    "            y = Variable(y)\n",
    "        h = F.sigmoid(self.xh(x))\n",
    "        h = F.sigmoid(self.hh(h))\n",
    "        y_ = F.softmax(self.hy(h))\n",
    "        if train:\n",
    "            loss, accuracy = F.softmax_cross_entropy(y_, y), F.accuracy(y_, y)\n",
    "            return loss, accuracy\n",
    "        else:\n",
    "            return np.argmax(y_.data)\n",
    " \n",
    "    def reset(self):\n",
    "        # 勾配の初期化\n",
    "        self.zerograds()"
   ]
  },
  {
   "cell_type": "code",
   "execution_count": 88,
   "metadata": {},
   "outputs": [
    {
     "name": "stdout",
     "output_type": "stream",
     "text": [
      "Train\n",
      "epoch:\t10\ttotal loss:\t5.479261517524719\tmean accuracy:\t0.5000000059604645\ttime:\t0.07149004936218262\n",
      "epoch:\t20\ttotal loss:\t5.357056379318237\tmean accuracy:\t0.3700000047683716\ttime:\t0.06621003150939941\n",
      "epoch:\t30\ttotal loss:\t5.169924795627594\tmean accuracy:\t0.6\ttime:\t0.07879090309143066\n",
      "epoch:\t40\ttotal loss:\t4.891140103340149\tmean accuracy:\t0.6700000047683716\ttime:\t0.07900404930114746\n",
      "epoch:\t50\ttotal loss:\t4.58750718832016\tmean accuracy:\t0.6700000047683716\ttime:\t0.07108092308044434\n",
      "epoch:\t60\ttotal loss:\t4.351382613182068\tmean accuracy:\t0.6700000047683716\ttime:\t0.07286787033081055\n",
      "epoch:\t70\ttotal loss:\t4.205884695053101\tmean accuracy:\t0.7099999904632568\ttime:\t0.07524704933166504\n",
      "epoch:\t80\ttotal loss:\t4.1075997948646545\tmean accuracy:\t0.8799999952316284\ttime:\t0.07965207099914551\n",
      "epoch:\t90\ttotal loss:\t4.018869400024414\tmean accuracy:\t0.9699999928474426\ttime:\t0.08058691024780273\n",
      "epoch:\t100\ttotal loss:\t3.9368693828582764\tmean accuracy:\t0.9799999952316284\ttime:\t0.06838202476501465\n"
     ]
    }
   ],
   "source": [
    "# 学習\n",
    "\n",
    "EPOCH_NUM = 100\n",
    "HIDDEN_SIZE = 20\n",
    "BATCH_SIZE = 20\n",
    " \n",
    "# モデルの定義\n",
    "model = NN(in_size=in_size, hidden_size=HIDDEN_SIZE, out_size=out_size)\n",
    "optimizer = optimizers.Adam()\n",
    "optimizer.setup(model)\n",
    " \n",
    "# 学習開始\n",
    "print(\"Train\")\n",
    "st = time.time()\n",
    "for epoch in range(EPOCH_NUM):\n",
    "    # ミニバッチ学習\n",
    "    perm = np.random.permutation(N) # ランダムな整数列リストを取得\n",
    "    total_loss = 0\n",
    "    total_accuracy = 0\n",
    "    for i in range(0, N, BATCH_SIZE): \n",
    "        x = train_x[perm[i:i+BATCH_SIZE]]\n",
    "        y = train_y[perm[i:i+BATCH_SIZE]]\n",
    "        model.reset()\n",
    "        loss, accuracy = model(x=x, y=y, train=True)\n",
    "        loss.backward()\n",
    "        loss.unchain_backward()\n",
    "        total_loss += loss.data\n",
    "        total_accuracy += accuracy.data\n",
    "        optimizer.update()\n",
    "    if (epoch+1) % 10 == 0:\n",
    "        ed = time.time()\n",
    "        print(\"epoch:\\t{}\\ttotal loss:\\t{}\\tmean accuracy:\\t{}\\ttime:\\t{}\".format(epoch+1, total_loss, total_accuracy/(N/BATCH_SIZE), ed-st))\n",
    "        st = time.time()"
   ]
  },
  {
   "cell_type": "code",
   "execution_count": 89,
   "metadata": {},
   "outputs": [
    {
     "name": "stdout",
     "output_type": "stream",
     "text": [
      "Predict\n",
      "test data accuracy:  0.96\n"
     ]
    }
   ],
   "source": [
    "# 予測\n",
    "\n",
    "print(\"Predict\")\n",
    "res = []\n",
    "for x, y in zip(test_x, test_y):\n",
    "    y_ = model(x=x.reshape(1,len(x)), train=False)\n",
    "    if y == y_:\n",
    "        res.append(1)\n",
    "    else:\n",
    "        res.append(0)\n",
    "accuracy = sum(res)/len(res)\n",
    "print(\"test data accuracy: \", accuracy)"
   ]
  }
 ],
 "metadata": {
  "kernelspec": {
   "display_name": "Python 3",
   "language": "python",
   "name": "python3"
  },
  "language_info": {
   "codemirror_mode": {
    "name": "ipython",
    "version": 3
   },
   "file_extension": ".py",
   "mimetype": "text/x-python",
   "name": "python",
   "nbconvert_exporter": "python",
   "pygments_lexer": "ipython3",
   "version": "3.5.2"
  }
 },
 "nbformat": 4,
 "nbformat_minor": 2
}
