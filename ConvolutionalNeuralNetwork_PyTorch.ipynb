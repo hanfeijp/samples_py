{
 "cells": [
  {
   "cell_type": "code",
   "execution_count": 10,
   "metadata": {
    "collapsed": true
   },
   "outputs": [],
   "source": [
    "import datetime\n",
    "import numpy as np\n",
    "import matplotlib.pylab as plt\n",
    "from matplotlib import cm\n",
    "import torch\n",
    "import torch.nn as nn\n",
    "import torch.nn.functional as F\n",
    "import torch.optim as optim\n",
    "from torchvision import datasets, transforms\n",
    "from torch.autograd import Variable\n",
    "from sklearn.datasets import fetch_mldata"
   ]
  },
  {
   "cell_type": "code",
   "execution_count": 11,
   "metadata": {},
   "outputs": [
    {
     "name": "stdout",
     "output_type": "stream",
     "text": [
      "python 3.5.2\n",
      "\n",
      "numpy 1.13.1\n",
      "torch 0.2.0.post1\n",
      "torchvision 0.1.9\n",
      "matplotlib 2.0.2\n",
      "scikit-learn 0.18.2\n"
     ]
    }
   ],
   "source": [
    "from pkg_resources import get_distribution\n",
    "import platform\n",
    "print(\"python\", platform.python_version())\n",
    "print(\"\")\n",
    "libs = [\"numpy\", \"torch\", \"torchvision\", \"matplotlib\", \"scikit-learn\"]\n",
    "for lib in libs:\n",
    "    version = get_distribution(lib).version\n",
    "    print(lib, version)"
   ]
  },
  {
   "cell_type": "code",
   "execution_count": 3,
   "metadata": {
    "collapsed": true
   },
   "outputs": [],
   "source": [
    "# 畳み込みニューラルネットワークでMNIST画像分類"
   ]
  },
  {
   "cell_type": "code",
   "execution_count": 33,
   "metadata": {},
   "outputs": [],
   "source": [
    "# モデルクラス定義\n",
    "\n",
    "class CNN(nn.Module):\n",
    "    def __init__(self):\n",
    "        # クラスの初期化\n",
    "        super(CNN, self).__init__()\n",
    "        # 画像を畳み込みを行うまで\n",
    "        self.head = nn.Sequential(\n",
    "            nn.Conv2d(in_channels=1, out_channels=10, kernel_size=(5, 5), stride=1, padding=0),\n",
    "            nn.ReLU(),\n",
    "            nn.MaxPool2d(kernel_size=2),\n",
    "            nn.Conv2d(in_channels=10, out_channels=20, kernel_size=(5, 5), stride=1, padding=0),\n",
    "            nn.ReLU(),\n",
    "            nn.MaxPool2d(kernel_size=2)\n",
    "        )\n",
    "        # 畳み込みで得られたベクトルを出力層に順伝播させるまで\n",
    "        self.tail = nn.Sequential(\n",
    "            nn.Linear(320, 50),\n",
    "            nn.ReLU(),\n",
    "            nn.Linear(50, 50),\n",
    "            nn.ReLU(),\n",
    "            nn.Linear(50, 10)\n",
    "        )\n",
    "    \n",
    "    def __call__(self, x):\n",
    "        # 順伝播を計算する関数\n",
    "        # :param x: 入力値\n",
    "        h = self.head(x)\n",
    "        h = h.view(-1, 320)\n",
    "        h = self.tail(h)\n",
    "        y = F.log_softmax(h)\n",
    "        return y"
   ]
  },
  {
   "cell_type": "code",
   "execution_count": 34,
   "metadata": {},
   "outputs": [
    {
     "name": "stdout",
     "output_type": "stream",
     "text": [
      "Train\n",
      "epoch:\t1\ttotal loss:\t87.90769752860069\ttime:\t0:00:25.185393\n",
      "epoch:\t2\ttotal loss:\t20.445800498127937\ttime:\t0:00:24.952218\n",
      "epoch:\t3\ttotal loss:\t13.151168003678322\ttime:\t0:00:25.736019\n",
      "epoch:\t4\ttotal loss:\t9.740851230919361\ttime:\t0:00:25.274037\n",
      "epoch:\t5\ttotal loss:\t7.895347990095615\ttime:\t0:00:24.455312\n"
     ]
    }
   ],
   "source": [
    "# 学習\n",
    "\n",
    "EPOCH_NUM = 5\n",
    "BATCH_SIZE = 1000\n",
    " \n",
    "# 教師データ\n",
    "mnist = fetch_mldata('MNIST original', data_home='.')\n",
    "mnist.data = mnist.data.astype(np.float32) # 画像データ　784*70000 [[0-255, 0-255, ...], [0-255, 0-255, ...], ... ]\n",
    "mnist.data /= 255 # 0-1に正規化する\n",
    "mnist.target = mnist.target.astype(np.int32) # ラベルデータ70000\n",
    " \n",
    "# 教師データを変換\n",
    "N = 60000\n",
    "train_x, test_x = np.split(mnist.data,   [N]) # 教師データ\n",
    "train_t, test_t = np.split(mnist.target, [N]) # テスト用のデータ\n",
    "train_x = train_x.reshape((len(train_x), IN_CHANNELS, 28, 28)) # (N, channel, height, width)\n",
    "test_x = test_x.reshape((len(test_x), IN_CHANNELS, 28, 28))\n",
    "\n",
    "# DataLoader化\n",
    "train = torch.utils.data.TensorDataset(torch.from_numpy(train_x), torch.from_numpy(train_t))\n",
    "train_loader = torch.utils.data.DataLoader(train, batch_size=BATCH_SIZE, shuffle=True)\n",
    "test = torch.utils.data.TensorDataset(torch.from_numpy(test_x), torch.from_numpy(test_t))\n",
    "test_loader = torch.utils.data.DataLoader(test, batch_size=BATCH_SIZE, shuffle=True)\n",
    "\n",
    "# モデルの定義\n",
    "model = CNN()\n",
    "criterion = nn.CrossEntropyLoss()\n",
    "optimizer = torch.optim.Adam(model.parameters())\n",
    "    \n",
    "# 学習開始\n",
    "print(\"Train\")\n",
    "st = datetime.datetime.now()\n",
    "for epoch in range(EPOCH_NUM):\n",
    "    # ミニバッチ学習\n",
    "    total_loss = 0\n",
    "    for i, data in enumerate(train_loader):\n",
    "        x, t = data\n",
    "        x, t = Variable(x), Variable(t)\n",
    "        optimizer.zero_grad()\n",
    "        y = model(x)\n",
    "        loss = criterion(y, t)\n",
    "        total_loss += loss.data[0]\n",
    "        loss.backward()\n",
    "        optimizer.step()\n",
    "    if (epoch+1) % 1 == 0:\n",
    "        ed = datetime.datetime.now()\n",
    "        print(\"epoch:\\t{}\\ttotal loss:\\t{}\\ttime:\\t{}\".format(epoch+1, total_loss, ed-st))\n",
    "        st = datetime.datetime.now()"
   ]
  },
  {
   "cell_type": "code",
   "execution_count": 38,
   "metadata": {},
   "outputs": [
    {
     "name": "stdout",
     "output_type": "stream",
     "text": [
      "\n",
      "Predict\n"
     ]
    },
    {
     "data": {
      "image/png": "[encoded data removed]",
      "text/plain": [
       "<matplotlib.figure.Figure at 0x104208cf8>"
      ]
     },
     "metadata": {},
     "output_type": "display_data"
    },
    {
     "name": "stdout",
     "output_type": "stream",
     "text": [
      "y:\t4\n",
      "\n"
     ]
    },
    {
     "data": {
      "image/png": "[encoded data removed]",
      "text/plain": [
       "<matplotlib.figure.Figure at 0x103452080>"
      ]
     },
     "metadata": {},
     "output_type": "display_data"
    },
    {
     "name": "stdout",
     "output_type": "stream",
     "text": [
      "y:\t6\n",
      "\n"
     ]
    },
    {
     "data": {
      "image/png": "[encoded data removed]",
      "text/plain": [
       "<matplotlib.figure.Figure at 0x102156940>"
      ]
     },
     "metadata": {},
     "output_type": "display_data"
    },
    {
     "name": "stdout",
     "output_type": "stream",
     "text": [
      "y:\t8\n",
      "\n"
     ]
    },
    {
     "data": {
      "image/png": "[encoded data removed]",
      "text/plain": [
       "<matplotlib.figure.Figure at 0x1098bed68>"
      ]
     },
     "metadata": {},
     "output_type": "display_data"
    },
    {
     "name": "stdout",
     "output_type": "stream",
     "text": [
      "y:\t2\n",
      "\n"
     ]
    },
    {
     "data": {
      "image/png": "[encoded data removed]",
      "text/plain": [
       "<matplotlib.figure.Figure at 0x109793710>"
      ]
     },
     "metadata": {},
     "output_type": "display_data"
    },
    {
     "name": "stdout",
     "output_type": "stream",
     "text": [
      "y:\t6\n",
      "\n"
     ]
    },
    {
     "data": {
      "image/png": "[encoded data removed]",
      "text/plain": [
       "<matplotlib.figure.Figure at 0x109743d68>"
      ]
     },
     "metadata": {},
     "output_type": "display_data"
    },
    {
     "name": "stdout",
     "output_type": "stream",
     "text": [
      "y:\t5\n",
      "\n"
     ]
    },
    {
     "data": {
      "image/png": "[encoded data removed]",
      "text/plain": [
       "<matplotlib.figure.Figure at 0x1098900f0>"
      ]
     },
     "metadata": {},
     "output_type": "display_data"
    },
    {
     "name": "stdout",
     "output_type": "stream",
     "text": [
      "y:\t3\n",
      "\n"
     ]
    },
    {
     "data": {
      "image/png": "[encoded data removed]",
      "text/plain": [
       "<matplotlib.figure.Figure at 0x108a02940>"
      ]
     },
     "metadata": {},
     "output_type": "display_data"
    },
    {
     "name": "stdout",
     "output_type": "stream",
     "text": [
      "y:\t0\n",
      "\n"
     ]
    },
    {
     "data": {
      "image/png": "[encoded data removed]",
      "text/plain": [
       "<matplotlib.figure.Figure at 0x1098998d0>"
      ]
     },
     "metadata": {},
     "output_type": "display_data"
    },
    {
     "name": "stdout",
     "output_type": "stream",
     "text": [
      "y:\t0\n",
      "\n"
     ]
    },
    {
     "data": {
      "image/png": "[encoded data removed]",
      "text/plain": [
       "<matplotlib.figure.Figure at 0x104208e10>"
      ]
     },
     "metadata": {},
     "output_type": "display_data"
    },
    {
     "name": "stdout",
     "output_type": "stream",
     "text": [
      "y:\t1\n",
      "\n"
     ]
    }
   ],
   "source": [
    "# 予測\n",
    "\n",
    "print(\"\\nPredict\")\n",
    "def predict(model, x):\n",
    "    x_ = np.array([x], dtype=\"float32\")\n",
    "    x_ = torch.from_numpy(x_)\n",
    "    x_ = Variable(x_)\n",
    "    y = model(x_)\n",
    "    _, y = torch.max(y.data, 1)\n",
    "    plt.figure(figsize=(1, 1))\n",
    "    plt.imshow(x[0], cmap=cm.gray_r)\n",
    "    plt.show()\n",
    "    print(\"y:\\t{}\\n\".format(y[0]))\n",
    "\n",
    "idx = np.random.choice((70000-N), 10)\n",
    "for i in idx:\n",
    "    predict(model, test_x[i])"
   ]
  }
 ],
 "metadata": {
  "kernelspec": {
   "display_name": "Python 3",
   "language": "python",
   "name": "python3"
  },
  "language_info": {
   "codemirror_mode": {
    "name": "ipython",
    "version": 3
   },
   "file_extension": ".py",
   "mimetype": "text/x-python",
   "name": "python",
   "nbconvert_exporter": "python",
   "pygments_lexer": "ipython3",
   "version": "3.5.2"
  }
 },
 "nbformat": 4,
 "nbformat_minor": 2
}
