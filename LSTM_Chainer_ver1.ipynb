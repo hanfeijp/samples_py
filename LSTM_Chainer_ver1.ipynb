{
 "cells": [
  {
   "cell_type": "code",
   "execution_count": 1,
   "metadata": {
    "collapsed": true
   },
   "outputs": [],
   "source": [
    "import datetime\n",
    "import numpy as np\n",
    "import matplotlib.pylab as plt\n",
    "from chainer import Chain, Variable, cuda, optimizer, optimizers, serializers\n",
    "import chainer.functions as F\n",
    "import chainer.links as L"
   ]
  },
  {
   "cell_type": "code",
   "execution_count": 2,
   "metadata": {},
   "outputs": [
    {
     "name": "stdout",
     "output_type": "stream",
     "text": [
      "python 3.5.2\n",
      "\n",
      "numpy 1.13.1\n",
      "chainer 2.0.2\n",
      "matplotlib 2.0.2\n"
     ]
    }
   ],
   "source": [
    "from pkg_resources import get_distribution\n",
    "import platform\n",
    "print(\"python\", platform.python_version())\n",
    "print(\"\")\n",
    "libs = [\"numpy\", \"chainer\", \"matplotlib\"]\n",
    "for lib in libs:\n",
    "    version = get_distribution(lib).version\n",
    "    print(lib, version)"
   ]
  },
  {
   "cell_type": "code",
   "execution_count": 3,
   "metadata": {
    "collapsed": true
   },
   "outputs": [],
   "source": [
    "# RNN-LSTMで正弦波を予測するモデル ver. F.lstm"
   ]
  },
  {
   "cell_type": "code",
   "execution_count": 4,
   "metadata": {
    "collapsed": true
   },
   "outputs": [],
   "source": [
    "# モデルクラス定義\n",
    "\n",
    "class LSTM(Chain):\n",
    "    def __init__(self, in_size, hidden_size, out_size):\n",
    "        # クラスの初期化\n",
    "        # :param in_size: 入力層のサイズ\n",
    "        # :param hidden_size: 隠れ層のサイズ\n",
    "        # :param out_size: 出力層のサイズ\n",
    "        super(LSTM, self).__init__(\n",
    "            xh = L.Linear(in_size, hidden_size),\n",
    "            hh_x = L.Linear(hidden_size, 4 * hidden_size),\n",
    "            hh_h = L.Linear(hidden_size, 4 * hidden_size),\n",
    "            hy = L.Linear(hidden_size, out_size)\n",
    "        )\n",
    "        self.hidden_size = hidden_size\n",
    " \n",
    "    def __call__(self, x, t=None, train=False):\n",
    "        # 順伝播の計算を行う関数\n",
    "        # :param x: 入力値\n",
    "        # :param t: 正解の予測値\n",
    "        # :param train: 学習かどうか\n",
    "        # :return: 計算した損失 or 予測値\n",
    "        if self.h is None:\n",
    "            self.h = Variable(np.zeros((x.shape[0], self.hidden_size), dtype=\"float32\"))\n",
    "            self.c = Variable(np.zeros((x.shape[0], self.hidden_size), dtype=\"float32\"))\n",
    "        x = Variable(x)\n",
    "        if train:\n",
    "            t = Variable(t)\n",
    "        h = self.xh(x)\n",
    "        h = self.hh_x(h) + self.hh_h(self.h)\n",
    "        self.c, self.h = F.lstm(self.c, h)\n",
    "        y = self.hy(self.h)\n",
    "        if train:\n",
    "            return F.mean_squared_error(y, t)\n",
    "        else:\n",
    "            return y.data\n",
    " \n",
    "    def reset(self):\n",
    "        # 勾配の初期化とメモリの初期化\n",
    "        self.zerograds()\n",
    "        self.h = None\n",
    "        self.c = None"
   ]
  },
  {
   "cell_type": "code",
   "execution_count": 9,
   "metadata": {},
   "outputs": [
    {
     "name": "stdout",
     "output_type": "stream",
     "text": [
      "Train\n",
      "epoch:\t100\ttotal loss:\t5.711573123931885\ttime:\t0:00:11.649935\n",
      "epoch:\t200\ttotal loss:\t1.432263731956482\ttime:\t0:00:12.531123\n",
      "epoch:\t300\ttotal loss:\t0.6796932816505432\ttime:\t0:00:12.594512\n",
      "epoch:\t400\ttotal loss:\t0.45702433586120605\ttime:\t0:00:12.968457\n",
      "epoch:\t500\ttotal loss:\t0.33961641788482666\ttime:\t0:00:12.567517\n",
      "epoch:\t600\ttotal loss:\t0.2531318962574005\ttime:\t0:00:12.117417\n",
      "epoch:\t700\ttotal loss:\t0.2290213406085968\ttime:\t0:00:13.282068\n",
      "epoch:\t800\ttotal loss:\t0.19183294475078583\ttime:\t0:00:12.538337\n",
      "epoch:\t900\ttotal loss:\t0.1611701399087906\ttime:\t0:00:12.217937\n",
      "epoch:\t1000\ttotal loss:\t0.13746856153011322\ttime:\t0:00:13.185064\n"
     ]
    }
   ],
   "source": [
    "# 学習\n",
    "\n",
    "EPOCH_NUM = 1000\n",
    "HIDDEN_SIZE = 5\n",
    "BATCH_ROW_SIZE = 100 # 分割した時系列をいくつミニバッチに取り込むか\n",
    "BATCH_COL_SIZE = 100 # ミニバッチで分割する時系列数\n",
    " \n",
    "# 教師データ\n",
    "train_data = np.array([np.sin(i*2*np.pi/50) for i in range(50)]*10)\n",
    " \n",
    "# 教師データを変換\n",
    "train_x, train_t = [], []\n",
    "for i in range(len(train_data)-1):\n",
    "    train_x.append(train_data[i])\n",
    "    train_t.append(train_data[i+1])\n",
    "train_x = np.array(train_x, dtype=\"float32\")\n",
    "train_t = np.array(train_t, dtype=\"float32\")\n",
    "in_size = 1\n",
    "out_size = 1\n",
    "N = len(train_x)\n",
    " \n",
    "# モデルの定義\n",
    "model = LSTM(in_size=in_size, hidden_size=HIDDEN_SIZE, out_size=out_size)\n",
    "optimizer = optimizers.Adam()\n",
    "optimizer.setup(model)\n",
    " \n",
    "# 学習開始\n",
    "print(\"Train\")\n",
    "st = datetime.datetime.now()\n",
    "for epoch in range(EPOCH_NUM):\n",
    "\n",
    "    # ミニバッチ学習\n",
    "    x, t = [], []\n",
    "    #  ミニバッチ学習データとして、時系列全体から、BATCH_COL_SIZE分の時系列を抜き出したものを、BATCH_ROW_SIZE個用意する\n",
    "    for i in range(BATCH_ROW_SIZE):\n",
    "        index = np.random.randint(0, N-BATCH_COL_SIZE+1) # ランダムな箇所、ただしBATCH_COL_SIZE分だけ抜き取れる場所から選ぶ\n",
    "        x.append(train_x[index:index+BATCH_COL_SIZE]) # BATCH_COL_SIZE分の時系列を取り出す\n",
    "        t.append(train_t[index:index+BATCH_COL_SIZE])\n",
    "    x = np.array(x, dtype=\"float32\")\n",
    "    t = np.array(t, dtype=\"float32\")\n",
    "    loss = 0\n",
    "    total_loss = 0\n",
    "    model.reset() # 勾配とメモリの初期化\n",
    "    for i in range(BATCH_COL_SIZE): # 各時刻おきにBATCH_ROW_SIZEごと読み込んで損失を計算する\n",
    "        x_ = np.array([x[j, i] for j in range(BATCH_ROW_SIZE)], dtype=\"float32\")[:, np.newaxis] # 時刻iの入力値\n",
    "        t_ = np.array([t[j, i] for j in range(BATCH_ROW_SIZE)], dtype=\"float32\")[:, np.newaxis] # 時刻i+1の値（＝正解の予測値）\n",
    "        loss += model(x=x_, t=t_, train=True)\n",
    "    loss.backward()\n",
    "    loss.unchain_backward()\n",
    "    total_loss += loss.data\n",
    "    optimizer.update()\n",
    "    if (epoch+1) % 100 == 0:\n",
    "        ed = datetime.datetime.now()\n",
    "        print(\"epoch:\\t{}\\ttotal loss:\\t{}\\ttime:\\t{}\".format(epoch+1, total_loss, ed-st))\n",
    "        st = datetime.datetime.now()"
   ]
  },
  {
   "cell_type": "code",
   "execution_count": 10,
   "metadata": {},
   "outputs": [
    {
     "name": "stdout",
     "output_type": "stream",
     "text": [
      "\n",
      "Predict\n"
     ]
    },
    {
     "data": {
      "image/png": "[encoded data removed]",
      "text/plain": [
       "<matplotlib.figure.Figure at 0x1064d5668>"
      ]
     },
     "metadata": {},
     "output_type": "display_data"
    }
   ],
   "source": [
    "# 予測\n",
    "\n",
    "print(\"\\nPredict\")\n",
    "predict = np.empty(0) # 予測時系列\n",
    "inseq_size = 50\n",
    "inseq = train_data[:inseq_size] # 予測直前までの時系列\n",
    "for _ in range(N - inseq_size):\n",
    "    model.reset() # メモリを初期化\n",
    "    for i in inseq: # モデルに予測直前までの時系列を読み込ませる\n",
    "        x = np.array([[i]], dtype=\"float32\")\n",
    "        y = model(x=x, train=False)\n",
    "    predict = np.append(predict, y) # 最後の予測値を記録\n",
    "    # モデルに読み込ませる予測直前時系列を予測値で更新する\n",
    "    inseq = np.delete(inseq, 0)\n",
    "    inseq = np.append(inseq, y)\n",
    "\n",
    "plt.plot(range(N+1), train_data, color=\"red\", label=\"t\")\n",
    "plt.plot(range(inseq_size+1, N+1), predict, color=\"blue\", label=\"y\")\n",
    "plt.legend(loc=\"upper left\")\n",
    "plt.show()"
   ]
  }
 ],
 "metadata": {
  "kernelspec": {
   "display_name": "Python 3",
   "language": "python",
   "name": "python3"
  },
  "language_info": {
   "codemirror_mode": {
    "name": "ipython",
    "version": 3
   },
   "file_extension": ".py",
   "mimetype": "text/x-python",
   "name": "python",
   "nbconvert_exporter": "python",
   "pygments_lexer": "ipython3",
   "version": "3.5.2"
  }
 },
 "nbformat": 4,
 "nbformat_minor": 2
}
