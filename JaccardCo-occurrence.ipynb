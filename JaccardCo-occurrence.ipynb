{
 "cells": [
  {
   "cell_type": "code",
   "execution_count": 1,
   "metadata": {
    "collapsed": true
   },
   "outputs": [],
   "source": [
    "import numpy as np\n",
    "from scipy.spatial import distance"
   ]
  },
  {
   "cell_type": "code",
   "execution_count": 7,
   "metadata": {},
   "outputs": [
    {
     "name": "stdout",
     "output_type": "stream",
     "text": [
      "python 3.5.2\n",
      "\n",
      "numpy 1.13.1\n",
      "scipy 0.19.1\n"
     ]
    }
   ],
   "source": [
    "from pkg_resources import get_distribution\n",
    "import platform\n",
    "print(\"python\", platform.python_version())\n",
    "print(\"\")\n",
    "libs = [\"numpy\", \"scipy\"]\n",
    "for lib in libs:\n",
    "    version = get_distribution(lib).version\n",
    "    print(lib, version)"
   ]
  },
  {
   "cell_type": "code",
   "execution_count": 12,
   "metadata": {
    "collapsed": true
   },
   "outputs": [],
   "source": [
    "docs = [\n",
    "    [\"データ\", \"分析\", \"エンジニア\"],\n",
    "    [\"データ\", \"アナリスト\"],\n",
    "    [\"ソフトウェア\", \"エンジニア\"]\n",
    "]"
   ]
  },
  {
   "cell_type": "code",
   "execution_count": 13,
   "metadata": {},
   "outputs": [
    {
     "name": "stdout",
     "output_type": "stream",
     "text": [
      "{'ソフトウェア': 4, 'データ': 0, '分析': 1, 'エンジニア': 2, 'アナリスト': 3}\n"
     ]
    }
   ],
   "source": [
    "words = {}\n",
    "for doc in docs:\n",
    "    for word in doc:\n",
    "        if word not in words:\n",
    "            words[word] = len(words)\n",
    "print(words)"
   ]
  },
  {
   "cell_type": "code",
   "execution_count": 16,
   "metadata": {},
   "outputs": [
    {
     "name": "stdout",
     "output_type": "stream",
     "text": [
      "[[('データ', 'データ'), ('データ', '分析'), ('データ', 'エンジニア'), ('分析', '分析'), ('分析', 'エンジニア'), ('エンジニア', 'エンジニア')], [('データ', 'データ'), ('データ', 'アナリスト'), ('アナリスト', 'アナリスト')], [('ソフトウェア', 'ソフトウェア'), ('ソフトウェア', 'エンジニア'), ('エンジニア', 'エンジニア')]]\n"
     ]
    }
   ],
   "source": [
    "docs_p = []\n",
    "for doc in docs:\n",
    "    doc_p = []\n",
    "    for i in range(len(doc)):\n",
    "        for j in range(i, len(doc)):\n",
    "            doc_p.append((doc[i], doc[j])) # 共起ペアを作成\n",
    "    docs_p.append(doc_p)\n",
    "print(docs_p)"
   ]
  },
  {
   "cell_type": "code",
   "execution_count": 19,
   "metadata": {},
   "outputs": [
    {
     "name": "stdout",
     "output_type": "stream",
     "text": [
      "[[ 2.  1.  1.  1.  0.]\n",
      " [ 1.  1.  1.  0.  0.]\n",
      " [ 1.  1.  2.  0.  1.]\n",
      " [ 1.  0.  0.  1.  0.]\n",
      " [ 0.  0.  1.  0.  1.]]\n"
     ]
    }
   ],
   "source": [
    "cnts = np.zeros((len(words), len(words)))\n",
    "for doc_p in docs_p:\n",
    "    for p in doc_p:\n",
    "        cnts[words[p[0]], words[p[1]]] += 1\n",
    "        cnts[words[p[1]], words[p[0]]] += 1\n",
    "for i in range(len(words)):\n",
    "    cnts[i, i] /= 2\n",
    "print(cnts)"
   ]
  },
  {
   "cell_type": "code",
   "execution_count": 20,
   "metadata": {},
   "outputs": [
    {
     "name": "stdout",
     "output_type": "stream",
     "text": [
      "[[ 1.    0.5   0.2   0.25  0.2 ]\n",
      " [ 0.5   1.    0.5   0.25  0.25]\n",
      " [ 0.2   0.5   1.    0.2   0.25]\n",
      " [ 0.25  0.25  0.2   1.    0.  ]\n",
      " [ 0.2   0.25  0.25  0.    1.  ]]\n"
     ]
    }
   ],
   "source": [
    "jaccards = 1-distance.cdist(cnts, cnts, \"jaccard\") # Jaccard係数行列（共起パターンの類似度）\n",
    "print(jaccards)"
   ]
  }
 ],
 "metadata": {
  "kernelspec": {
   "display_name": "Python 3",
   "language": "python",
   "name": "python3"
  },
  "language_info": {
   "codemirror_mode": {
    "name": "ipython",
    "version": 3
   },
   "file_extension": ".py",
   "mimetype": "text/x-python",
   "name": "python",
   "nbconvert_exporter": "python",
   "pygments_lexer": "ipython3",
   "version": "3.5.2"
  }
 },
 "nbformat": 4,
 "nbformat_minor": 2
}
