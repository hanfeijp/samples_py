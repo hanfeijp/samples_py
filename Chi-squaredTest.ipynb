{
 "cells": [
  {
   "cell_type": "code",
   "execution_count": 1,
   "metadata": {
    "collapsed": true
   },
   "outputs": [],
   "source": [
    "import pandas as pd\n",
    "import numpy as np\n",
    "from scipy import stats"
   ]
  },
  {
   "cell_type": "code",
   "execution_count": 2,
   "metadata": {},
   "outputs": [
    {
     "name": "stdout",
     "output_type": "stream",
     "text": [
      "python 3.5.2\n",
      "\n",
      "pandas 0.20.3\n",
      "numpy 1.13.1\n",
      "scipy 0.19.1\n"
     ]
    }
   ],
   "source": [
    "from pkg_resources import get_distribution\n",
    "import platform\n",
    "print(\"python\", platform.python_version())\n",
    "print(\"\")\n",
    "libs = [\"pandas\", \"numpy\", \"scipy\"]\n",
    "for lib in libs:\n",
    "    version = get_distribution(lib).version\n",
    "    print(lib, version)"
   ]
  },
  {
   "cell_type": "code",
   "execution_count": 6,
   "metadata": {},
   "outputs": [
    {
     "data": {
      "text/plain": [
       "'\\n        満足 普通 不満\\n男性 43\\u3000  20   28\\n女性 15   31   11\\n'"
      ]
     },
     "execution_count": 6,
     "metadata": {},
     "output_type": "execute_result"
    }
   ],
   "source": [
    "# データ\n",
    "data = np.array([\n",
    "    [43, 20, 28],\n",
    "    [15, 31, 11]\n",
    "])\n",
    "\"\"\"\n",
    "        満足 普通 不満\n",
    "男性 43　  20   28\n",
    "女性 15   31   11\n",
    "\"\"\""
   ]
  },
  {
   "cell_type": "code",
   "execution_count": 8,
   "metadata": {},
   "outputs": [
    {
     "name": "stdout",
     "output_type": "stream",
     "text": [
      "統計量:  16.3522375799\n",
      "p-value:  0.000281291575897\n",
      "自由度 2\n",
      "期待度数\n",
      "[[ 35.66216216  31.35810811  23.97972973]\n",
      " [ 22.33783784  19.64189189  15.02027027]]\n"
     ]
    }
   ],
   "source": [
    "squared, p, dof, ef = stats.chi2_contingency(data) # 独立性の検定（カイ二乗検定）\n",
    "print(\"統計量: \", squared)\n",
    "print(\"p-value: \", p)\n",
    "print(\"自由度\", dof)\n",
    "print(\"期待度数\")\n",
    "print(ef)"
   ]
  },
  {
   "cell_type": "markdown",
   "metadata": {},
   "source": [
    "* p-value<0.05\n",
    "* 帰無仮説「性別と満足度は独立である」を棄却できる"
   ]
  }
 ],
 "metadata": {
  "kernelspec": {
   "display_name": "Python 3",
   "language": "python",
   "name": "python3"
  },
  "language_info": {
   "codemirror_mode": {
    "name": "ipython",
    "version": 3
   },
   "file_extension": ".py",
   "mimetype": "text/x-python",
   "name": "python",
   "nbconvert_exporter": "python",
   "pygments_lexer": "ipython3",
   "version": "3.5.2"
  }
 },
 "nbformat": 4,
 "nbformat_minor": 2
}
